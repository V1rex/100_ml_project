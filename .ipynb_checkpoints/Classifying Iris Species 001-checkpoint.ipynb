{
 "cells": [
  {
   "cell_type": "code",
   "execution_count": 28,
   "id": "4770ee53",
   "metadata": {},
   "outputs": [],
   "source": [
    "import numpy as np\n",
    "import matplotlib.pyplot as plt\n",
    "import pandas as pd\n",
    "\n",
    "from sklearn.datasets import load_iris\n",
    "iris_dataset = load_iris()\n",
    "\n",
    "\n",
    "\n",
    "\n",
    "df = pd.DataFrame(data=iris_dataset.data, columns=iris_dataset.feature_names)\n",
    "\n",
    "\n",
    "\n",
    "df['target'] = iris_dataset.target\n",
    "\n",
    "X = df[iris_dataset.feature_names]\n",
    "y = df['target']"
   ]
  },
  {
   "cell_type": "code",
   "execution_count": 29,
   "id": "7b7db5a7",
   "metadata": {},
   "outputs": [],
   "source": [
    "X_train, X_test, y_train, y_test = train_test_split(X, y, random_state=0)"
   ]
  },
  {
   "cell_type": "code",
   "execution_count": 35,
   "id": "8a37ae00",
   "metadata": {},
   "outputs": [
    {
     "name": "stdout",
     "output_type": "stream",
     "text": [
      "For 1, we have a score for training 1.0 and for testing : 0.9736842105263158\n",
      "For 2, we have a score for training 0.9642857142857143 and for testing : 0.9736842105263158\n",
      "For 3, we have a score for training 0.9642857142857143 and for testing : 0.9736842105263158\n",
      "For 4, we have a score for training 0.9732142857142857 and for testing : 0.9736842105263158\n",
      "For 5, we have a score for training 0.9732142857142857 and for testing : 0.9736842105263158\n",
      "For 6, we have a score for training 0.9642857142857143 and for testing : 0.9736842105263158\n",
      "For 7, we have a score for training 0.9732142857142857 and for testing : 0.9736842105263158\n",
      "For 8, we have a score for training 0.9732142857142857 and for testing : 0.9736842105263158\n",
      "For 9, we have a score for training 0.9642857142857143 and for testing : 0.9736842105263158\n",
      "For 10, we have a score for training 0.9732142857142857 and for testing : 0.9736842105263158\n",
      "For 11, we have a score for training 0.9642857142857143 and for testing : 0.9736842105263158\n",
      "For 12, we have a score for training 0.9732142857142857 and for testing : 0.9736842105263158\n",
      "For 13, we have a score for training 0.9642857142857143 and for testing : 0.9736842105263158\n",
      "For 14, we have a score for training 0.9642857142857143 and for testing : 0.9736842105263158\n",
      "For 15, we have a score for training 0.9642857142857143 and for testing : 0.9736842105263158\n",
      "For 16, we have a score for training 0.9642857142857143 and for testing : 0.9736842105263158\n",
      "For 17, we have a score for training 0.9642857142857143 and for testing : 0.9736842105263158\n",
      "For 18, we have a score for training 0.9642857142857143 and for testing : 0.9736842105263158\n",
      "For 19, we have a score for training 0.9642857142857143 and for testing : 0.9736842105263158\n",
      "For 20, we have a score for training 0.9642857142857143 and for testing : 0.9736842105263158\n",
      "For 21, we have a score for training 0.9553571428571429 and for testing : 0.9736842105263158\n",
      "For 22, we have a score for training 0.9553571428571429 and for testing : 0.9736842105263158\n",
      "For 23, we have a score for training 0.9464285714285714 and for testing : 0.9736842105263158\n",
      "For 24, we have a score for training 0.9375 and for testing : 0.9473684210526315\n",
      "For 25, we have a score for training 0.9464285714285714 and for testing : 0.9473684210526315\n",
      "For 26, we have a score for training 0.9732142857142857 and for testing : 0.9473684210526315\n",
      "For 27, we have a score for training 0.9642857142857143 and for testing : 0.9473684210526315\n",
      "For 28, we have a score for training 0.9642857142857143 and for testing : 0.9210526315789473\n",
      "For 29, we have a score for training 0.9375 and for testing : 0.8947368421052632\n",
      "For 30, we have a score for training 0.9553571428571429 and for testing : 0.9473684210526315\n",
      "For 31, we have a score for training 0.9553571428571429 and for testing : 0.9473684210526315\n",
      "For 32, we have a score for training 0.9464285714285714 and for testing : 0.9736842105263158\n",
      "For 33, we have a score for training 0.9464285714285714 and for testing : 0.9210526315789473\n",
      "For 34, we have a score for training 0.9464285714285714 and for testing : 0.9473684210526315\n",
      "For 35, we have a score for training 0.9464285714285714 and for testing : 0.9210526315789473\n",
      "For 36, we have a score for training 0.9464285714285714 and for testing : 0.9473684210526315\n",
      "For 37, we have a score for training 0.9375 and for testing : 0.9210526315789473\n",
      "For 38, we have a score for training 0.9464285714285714 and for testing : 0.9210526315789473\n",
      "For 39, we have a score for training 0.9375 and for testing : 0.9210526315789473\n",
      "For 40, we have a score for training 0.9375 and for testing : 0.868421052631579\n",
      "For 41, we have a score for training 0.9464285714285714 and for testing : 0.8947368421052632\n",
      "For 42, we have a score for training 0.9464285714285714 and for testing : 0.868421052631579\n",
      "For 43, we have a score for training 0.9464285714285714 and for testing : 0.868421052631579\n",
      "For 44, we have a score for training 0.9464285714285714 and for testing : 0.8947368421052632\n",
      "For 45, we have a score for training 0.9464285714285714 and for testing : 0.8947368421052632\n",
      "For 46, we have a score for training 0.9464285714285714 and for testing : 0.8947368421052632\n",
      "For 47, we have a score for training 0.9464285714285714 and for testing : 0.8947368421052632\n",
      "For 48, we have a score for training 0.9464285714285714 and for testing : 0.868421052631579\n",
      "For 49, we have a score for training 0.9375 and for testing : 0.8947368421052632\n"
     ]
    }
   ],
   "source": [
    "from sklearn.neighbors import KNeighborsClassifier\n",
    "\n",
    "\n",
    "for this_n_neighbors in range(1,50):\n",
    "    knn = KNeighborsClassifier(n_neighbors = this_n_neighbors)\n",
    "    \n",
    "    knn.fit(X_train, y_train)\n",
    "\n",
    "    train_score = knn.score(X_train, y_train)\n",
    "\n",
    "    test_score = knn.score(X_test, y_test)\n",
    "    \n",
    "    print('For {0}, we have a score for training {1} and for testing : {2}'.format(this_n_neighbors,\n",
    "                                                                                   train_score, \n",
    "                                                                                  test_score))\n",
    "    "
   ]
  },
  {
   "cell_type": "code",
   "execution_count": null,
   "id": "d3fa7545",
   "metadata": {},
   "outputs": [],
   "source": []
  }
 ],
 "metadata": {
  "kernelspec": {
   "display_name": "Python 3 (ipykernel)",
   "language": "python",
   "name": "python3"
  },
  "language_info": {
   "codemirror_mode": {
    "name": "ipython",
    "version": 3
   },
   "file_extension": ".py",
   "mimetype": "text/x-python",
   "name": "python",
   "nbconvert_exporter": "python",
   "pygments_lexer": "ipython3",
   "version": "3.9.7"
  }
 },
 "nbformat": 4,
 "nbformat_minor": 5
}
