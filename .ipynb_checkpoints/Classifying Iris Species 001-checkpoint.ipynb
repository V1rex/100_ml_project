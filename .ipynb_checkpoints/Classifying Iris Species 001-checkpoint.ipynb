{
 "cells": [
  {
   "cell_type": "code",
   "execution_count": 28,
   "id": "4770ee53",
   "metadata": {},
   "outputs": [],
   "source": [
    "import numpy as np\n",
    "import matplotlib.pyplot as plt\n",
    "import pandas as pd\n",
    "\n",
    "from sklearn.datasets import load_iris\n",
    "iris_dataset = load_iris()\n",
    "\n",
    "\n",
    "\n",
    "\n",
    "df = pd.DataFrame(data=iris_dataset.data, columns=iris_dataset.feature_names)\n",
    "\n",
    "\n",
    "\n",
    "df['target'] = iris_dataset.target\n",
    "\n",
    "X = df[iris_dataset.feature_names]\n",
    "y = df['target']"
   ]
  },
  {
   "cell_type": "code",
   "execution_count": 29,
   "id": "7b7db5a7",
   "metadata": {},
   "outputs": [],
   "source": [
    "X_train, X_test, y_train, y_test = train_test_split(X, y, random_state=0)"
   ]
  },
  {
   "cell_type": "code",
   "execution_count": 36,
   "id": "1bebcc50",
   "metadata": {},
   "outputs": [],
   "source": [
    "from sklearn.neighbors import KNeighborsClassifier\n",
    "\n",
    "\n",
    "knn = KNeighborsClassifier(n_neighbors = 1)\n",
    "\n",
    "knn.fit(X_train, y_train)\n",
    "\n",
    "train_score = knn.score(X_train, y_train)\n",
    "\n",
    "test_score = knn.score(X_test, y_test)\n",
    "\n",
    "    "
   ]
  },
  {
   "cell_type": "markdown",
   "id": "918cf033",
   "metadata": {},
   "source": [
    "### Making predictions "
   ]
  },
  {
   "cell_type": "code",
   "execution_count": 37,
   "id": "20d2197c",
   "metadata": {},
   "outputs": [
    {
     "name": "stdout",
     "output_type": "stream",
     "text": [
      "X_new.shape: (1, 4)\n"
     ]
    }
   ],
   "source": [
    "X_new = np.array([[5, 2.9, 1, 0.2]])\n",
    "print(\"X_new.shape: {}\".format(X_new.shape))\n"
   ]
  },
  {
   "cell_type": "code",
   "execution_count": 38,
   "id": "f0253a97",
   "metadata": {},
   "outputs": [
    {
     "name": "stdout",
     "output_type": "stream",
     "text": [
      "Prediction: [0]\n",
      "Predicted target name: ['setosa']\n"
     ]
    }
   ],
   "source": [
    "prediction = knn.predict(X_new)\n",
    "print(\"Prediction: {}\".format(prediction))\n",
    "print(\"Predicted target name: {}\".format(\n",
    "iris_dataset['target_names'][prediction]))"
   ]
  },
  {
   "cell_type": "code",
   "execution_count": null,
   "id": "f544ad2a",
   "metadata": {},
   "outputs": [],
   "source": []
  }
 ],
 "metadata": {
  "kernelspec": {
   "display_name": "Python 3 (ipykernel)",
   "language": "python",
   "name": "python3"
  },
  "language_info": {
   "codemirror_mode": {
    "name": "ipython",
    "version": 3
   },
   "file_extension": ".py",
   "mimetype": "text/x-python",
   "name": "python",
   "nbconvert_exporter": "python",
   "pygments_lexer": "ipython3",
   "version": "3.9.7"
  }
 },
 "nbformat": 4,
 "nbformat_minor": 5
}
