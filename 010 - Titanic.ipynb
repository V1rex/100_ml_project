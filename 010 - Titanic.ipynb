{
 "cells": [
  {
   "cell_type": "markdown",
   "id": "6c60a056",
   "metadata": {},
   "source": [
    "# Loading Data "
   ]
  },
  {
   "cell_type": "code",
   "execution_count": 6,
   "id": "157e6ea7",
   "metadata": {},
   "outputs": [],
   "source": [
    "import numpy as np \n",
    "import pandas as pd\n",
    "\n",
    "df = pd.read_csv('project_010/train.csv') "
   ]
  },
  {
   "cell_type": "markdown",
   "id": "ece935da",
   "metadata": {},
   "source": [
    "# Data Exploration "
   ]
  },
  {
   "cell_type": "code",
   "execution_count": 3,
   "id": "31d3dc90",
   "metadata": {},
   "outputs": [
    {
     "data": {
      "text/plain": [
       "Index(['PassengerId', 'Survived', 'Pclass', 'Name', 'Sex', 'Age', 'SibSp',\n",
       "       'Parch', 'Ticket', 'Fare', 'Cabin', 'Embarked'],\n",
       "      dtype='object')"
      ]
     },
     "execution_count": 3,
     "metadata": {},
     "output_type": "execute_result"
    }
   ],
   "source": [
    "df.columns"
   ]
  },
  {
   "cell_type": "code",
   "execution_count": 7,
   "id": "79653939",
   "metadata": {},
   "outputs": [
    {
     "name": "stdout",
     "output_type": "stream",
     "text": [
      "<class 'pandas.core.frame.DataFrame'>\n",
      "RangeIndex: 891 entries, 0 to 890\n",
      "Data columns (total 12 columns):\n",
      " #   Column       Non-Null Count  Dtype  \n",
      "---  ------       --------------  -----  \n",
      " 0   PassengerId  891 non-null    int64  \n",
      " 1   Survived     891 non-null    int64  \n",
      " 2   Pclass       891 non-null    int64  \n",
      " 3   Name         891 non-null    object \n",
      " 4   Sex          891 non-null    object \n",
      " 5   Age          714 non-null    float64\n",
      " 6   SibSp        891 non-null    int64  \n",
      " 7   Parch        891 non-null    int64  \n",
      " 8   Ticket       891 non-null    object \n",
      " 9   Fare         891 non-null    float64\n",
      " 10  Cabin        204 non-null    object \n",
      " 11  Embarked     889 non-null    object \n",
      "dtypes: float64(2), int64(5), object(5)\n",
      "memory usage: 83.7+ KB\n"
     ]
    }
   ],
   "source": [
    "df.info()"
   ]
  },
  {
   "cell_type": "markdown",
   "id": "5fc22bf8",
   "metadata": {},
   "source": [
    "## Understanding Features\n",
    "---\n",
    "\n",
    "### Feature Considerations \n",
    "`PassengerId` :Represents the id of the passanger __(should be removed)__\n",
    "\n",
    "`Name ` : __(should be removed)__\n",
    "\n",
    "`Ticket ` : __(consider removal)__\n",
    "\n",
    "`Fare `: __(consider removal)__\n",
    "\n",
    "`Cabin` :__(consider further inverstigarion)__"
   ]
  },
  {
   "cell_type": "markdown",
   "id": "765ba8fb",
   "metadata": {},
   "source": [
    "### Categorical Features \n",
    "___\n",
    "\n",
    "## `Pclass`\n",
    "represents the socio-economic status \n",
    "        \n",
    "    - 1 : upper \n",
    "    - 2 : middle \n",
    "    - 3 : Lower \n",
    "    \n",
    "__Hot Encoding should be considered__"
   ]
  },
  {
   "cell_type": "code",
   "execution_count": 11,
   "id": "6e6bf25e",
   "metadata": {},
   "outputs": [
    {
     "data": {
      "text/plain": [
       "3    491\n",
       "1    216\n",
       "2    184\n",
       "Name: Pclass, dtype: int64"
      ]
     },
     "execution_count": 11,
     "metadata": {},
     "output_type": "execute_result"
    }
   ],
   "source": [
    "df['Pclass'].value_counts()"
   ]
  },
  {
   "cell_type": "markdown",
   "id": "8e55d30a",
   "metadata": {},
   "source": [
    "## `Sex`\n",
    "__Hot Encoding should be considered__"
   ]
  },
  {
   "cell_type": "code",
   "execution_count": 28,
   "id": "b9f36399",
   "metadata": {},
   "outputs": [
    {
     "data": {
      "text/plain": [
       "male      577\n",
       "female    314\n",
       "Name: Sex, dtype: int64"
      ]
     },
     "execution_count": 28,
     "metadata": {},
     "output_type": "execute_result"
    }
   ],
   "source": [
    "df['Sex'].value_counts()"
   ]
  },
  {
   "cell_type": "markdown",
   "id": "1ac8fafd",
   "metadata": {},
   "source": [
    "## `Embarked` \n",
    "__Hot Encoding should be considered__"
   ]
  },
  {
   "cell_type": "code",
   "execution_count": 27,
   "id": "8b973789",
   "metadata": {},
   "outputs": [
    {
     "data": {
      "text/plain": [
       "S    644\n",
       "C    168\n",
       "Q     77\n",
       "Name: Embarked, dtype: int64"
      ]
     },
     "execution_count": 27,
     "metadata": {},
     "output_type": "execute_result"
    }
   ],
   "source": [
    "df['Embarked'].value_counts()"
   ]
  },
  {
   "cell_type": "markdown",
   "id": "541b52e0",
   "metadata": {},
   "source": [
    "### Numerical Features \n",
    "___"
   ]
  },
  {
   "cell_type": "markdown",
   "id": "a05b13b6",
   "metadata": {},
   "source": [
    "## `Age `\n",
    "**Contains missing values**, that could be imputed "
   ]
  },
  {
   "cell_type": "code",
   "execution_count": 15,
   "id": "194c5e59",
   "metadata": {},
   "outputs": [
    {
     "data": {
      "text/plain": [
       "24.00    30\n",
       "22.00    27\n",
       "18.00    26\n",
       "19.00    25\n",
       "28.00    25\n",
       "         ..\n",
       "36.50     1\n",
       "55.50     1\n",
       "0.92      1\n",
       "23.50     1\n",
       "74.00     1\n",
       "Name: Age, Length: 88, dtype: int64"
      ]
     },
     "execution_count": 15,
     "metadata": {},
     "output_type": "execute_result"
    }
   ],
   "source": [
    "df['Age'].value_counts()"
   ]
  },
  {
   "cell_type": "markdown",
   "id": "a199d42d",
   "metadata": {},
   "source": [
    "## `Sibsp and Parch `"
   ]
  },
  {
   "cell_type": "code",
   "execution_count": 20,
   "id": "5e8a0361",
   "metadata": {},
   "outputs": [
    {
     "data": {
      "text/plain": [
       "0    608\n",
       "1    209\n",
       "2     28\n",
       "4     18\n",
       "3     16\n",
       "8      7\n",
       "5      5\n",
       "Name: SibSp, dtype: int64"
      ]
     },
     "execution_count": 20,
     "metadata": {},
     "output_type": "execute_result"
    }
   ],
   "source": [
    "df['SibSp'].value_counts()"
   ]
  },
  {
   "cell_type": "markdown",
   "id": "bc2022e6",
   "metadata": {},
   "source": [
    "## Target value : `Survived `\n",
    "----\n",
    "Represents the target value for our model \n",
    "\n",
    "    - 0 : did not survive \n",
    "    - 1 : survived \n",
    "    \n",
    "__We note that the number of non-survivers is bigger than the number of survivers, this should be taken care of when creating Train/test splits and when using Cross validation__"
   ]
  },
  {
   "cell_type": "code",
   "execution_count": 10,
   "id": "4b895f50",
   "metadata": {},
   "outputs": [
    {
     "data": {
      "text/plain": [
       "0    549\n",
       "1    342\n",
       "Name: Survived, dtype: int64"
      ]
     },
     "execution_count": 10,
     "metadata": {},
     "output_type": "execute_result"
    }
   ],
   "source": [
    "df['Survived'].value_counts()"
   ]
  },
  {
   "cell_type": "code",
   "execution_count": null,
   "id": "595232a0",
   "metadata": {},
   "outputs": [],
   "source": []
  }
 ],
 "metadata": {
  "kernelspec": {
   "display_name": "Python 3 (ipykernel)",
   "language": "python",
   "name": "python3"
  },
  "language_info": {
   "codemirror_mode": {
    "name": "ipython",
    "version": 3
   },
   "file_extension": ".py",
   "mimetype": "text/x-python",
   "name": "python",
   "nbconvert_exporter": "python",
   "pygments_lexer": "ipython3",
   "version": "3.9.7"
  }
 },
 "nbformat": 4,
 "nbformat_minor": 5
}
