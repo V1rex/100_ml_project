{
 "cells": [
  {
   "cell_type": "code",
   "execution_count": 46,
   "id": "0fa3ce6f",
   "metadata": {},
   "outputs": [
    {
     "name": "stdout",
     "output_type": "stream",
     "text": [
      "Requirement already satisfied: mglearn in c:\\users\\dell\\anaconda3\\lib\\site-packages (0.1.9)\n",
      "Requirement already satisfied: pillow in c:\\users\\dell\\anaconda3\\lib\\site-packages (from mglearn) (8.4.0)\n",
      "Requirement already satisfied: numpy in c:\\users\\dell\\anaconda3\\lib\\site-packages (from mglearn) (1.20.3)\n",
      "Requirement already satisfied: scikit-learn in c:\\users\\dell\\anaconda3\\lib\\site-packages (from mglearn) (0.24.2)\n",
      "Requirement already satisfied: cycler in c:\\users\\dell\\anaconda3\\lib\\site-packages (from mglearn) (0.10.0)\n",
      "Requirement already satisfied: pandas in c:\\users\\dell\\anaconda3\\lib\\site-packages (from mglearn) (1.3.4)\n",
      "Requirement already satisfied: imageio in c:\\users\\dell\\anaconda3\\lib\\site-packages (from mglearn) (2.9.0)\n",
      "Requirement already satisfied: joblib in c:\\users\\dell\\anaconda3\\lib\\site-packages (from mglearn) (1.1.0)\n",
      "Requirement already satisfied: matplotlib in c:\\users\\dell\\anaconda3\\lib\\site-packages (from mglearn) (3.4.3)\n",
      "Requirement already satisfied: six in c:\\users\\dell\\anaconda3\\lib\\site-packages (from cycler->mglearn) (1.16.0)\n",
      "Requirement already satisfied: kiwisolver>=1.0.1 in c:\\users\\dell\\anaconda3\\lib\\site-packages (from matplotlib->mglearn) (1.3.1)\n",
      "Requirement already satisfied: pyparsing>=2.2.1 in c:\\users\\dell\\anaconda3\\lib\\site-packages (from matplotlib->mglearn) (3.0.4)\n",
      "Requirement already satisfied: python-dateutil>=2.7 in c:\\users\\dell\\anaconda3\\lib\\site-packages (from matplotlib->mglearn) (2.8.2)\n",
      "Requirement already satisfied: pytz>=2017.3 in c:\\users\\dell\\anaconda3\\lib\\site-packages (from pandas->mglearn) (2021.3)\n",
      "Requirement already satisfied: scipy>=0.19.1 in c:\\users\\dell\\anaconda3\\lib\\site-packages (from scikit-learn->mglearn) (1.7.1)\n",
      "Requirement already satisfied: threadpoolctl>=2.0.0 in c:\\users\\dell\\anaconda3\\lib\\site-packages (from scikit-learn->mglearn) (2.2.0)\n"
     ]
    }
   ],
   "source": [
    "!pip install mglearn"
   ]
  },
  {
   "cell_type": "code",
   "execution_count": 47,
   "id": "4770ee53",
   "metadata": {},
   "outputs": [],
   "source": [
    "import numpy as np\n",
    "import matplotlib.pyplot as plt\n",
    "import pandas as pd\n",
    "import mglearn \n",
    "\n",
    "from sklearn.datasets import load_iris\n",
    "iris_dataset = load_iris()\n",
    "\n",
    "\n",
    "\n",
    "\n",
    "df = pd.DataFrame(data=iris_dataset.data, columns=iris_dataset.feature_names)\n",
    "\n",
    "\n",
    "\n",
    "df['target'] = iris_dataset.target\n",
    "\n",
    "X = df[iris_dataset.feature_names]\n",
    "y = df['target']"
   ]
  },
  {
   "cell_type": "code",
   "execution_count": 48,
   "id": "7b7db5a7",
   "metadata": {},
   "outputs": [],
   "source": [
    "X_train, X_test, y_train, y_test = train_test_split(X, y, random_state=0)"
   ]
  },
  {
   "cell_type": "code",
   "execution_count": 49,
   "id": "1bebcc50",
   "metadata": {},
   "outputs": [],
   "source": [
    "from sklearn.neighbors import KNeighborsClassifier\n",
    "\n",
    "\n",
    "knn = KNeighborsClassifier(n_neighbors = 1)\n",
    "\n",
    "knn.fit(X_train, y_train)\n",
    "\n",
    "train_score = knn.score(X_train, y_train)\n",
    "\n",
    "test_score = knn.score(X_test, y_test)\n",
    "\n",
    "    "
   ]
  },
  {
   "cell_type": "markdown",
   "id": "918cf033",
   "metadata": {},
   "source": [
    "### Making predictions "
   ]
  },
  {
   "cell_type": "code",
   "execution_count": 50,
   "id": "20d2197c",
   "metadata": {},
   "outputs": [
    {
     "name": "stdout",
     "output_type": "stream",
     "text": [
      "X_new.shape: (1, 4)\n"
     ]
    }
   ],
   "source": [
    "X_new = np.array([[5, 2.9, 1, 0.2]])\n",
    "print(\"X_new.shape: {}\".format(X_new.shape))\n"
   ]
  },
  {
   "cell_type": "code",
   "execution_count": 51,
   "id": "f0253a97",
   "metadata": {},
   "outputs": [
    {
     "name": "stdout",
     "output_type": "stream",
     "text": [
      "Prediction: [0]\n",
      "Predicted target name: ['setosa']\n"
     ]
    }
   ],
   "source": [
    "prediction = knn.predict(X_new)\n",
    "print(\"Prediction: {}\".format(prediction))\n",
    "print(\"Predicted target name: {}\".format(\n",
    "iris_dataset['target_names'][prediction]))"
   ]
  },
  {
   "cell_type": "code",
   "execution_count": null,
   "id": "f544ad2a",
   "metadata": {},
   "outputs": [],
   "source": []
  }
 ],
 "metadata": {
  "kernelspec": {
   "display_name": "Python 3 (ipykernel)",
   "language": "python",
   "name": "python3"
  },
  "language_info": {
   "codemirror_mode": {
    "name": "ipython",
    "version": 3
   },
   "file_extension": ".py",
   "mimetype": "text/x-python",
   "name": "python",
   "nbconvert_exporter": "python",
   "pygments_lexer": "ipython3",
   "version": "3.9.7"
  }
 },
 "nbformat": 4,
 "nbformat_minor": 5
}
