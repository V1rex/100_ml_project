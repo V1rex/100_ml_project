{
 "cells": [
  {
   "cell_type": "markdown",
   "id": "d185d772",
   "metadata": {},
   "source": [
    "# Loading the Data "
   ]
  },
  {
   "cell_type": "code",
   "execution_count": 173,
   "id": "0d2534dc",
   "metadata": {},
   "outputs": [
    {
     "data": {
      "text/html": [
       "<div>\n",
       "<style scoped>\n",
       "    .dataframe tbody tr th:only-of-type {\n",
       "        vertical-align: middle;\n",
       "    }\n",
       "\n",
       "    .dataframe tbody tr th {\n",
       "        vertical-align: top;\n",
       "    }\n",
       "\n",
       "    .dataframe thead th {\n",
       "        text-align: right;\n",
       "    }\n",
       "</style>\n",
       "<table border=\"1\" class=\"dataframe\">\n",
       "  <thead>\n",
       "    <tr style=\"text-align: right;\">\n",
       "      <th></th>\n",
       "      <th>longitude</th>\n",
       "      <th>latitude</th>\n",
       "      <th>housing_median_age</th>\n",
       "      <th>total_rooms</th>\n",
       "      <th>total_bedrooms</th>\n",
       "      <th>population</th>\n",
       "      <th>households</th>\n",
       "      <th>median_income</th>\n",
       "      <th>ocean_proximity</th>\n",
       "    </tr>\n",
       "  </thead>\n",
       "  <tbody>\n",
       "    <tr>\n",
       "      <th>0</th>\n",
       "      <td>-122.23</td>\n",
       "      <td>37.88</td>\n",
       "      <td>41.0</td>\n",
       "      <td>880.0</td>\n",
       "      <td>129.0</td>\n",
       "      <td>322.0</td>\n",
       "      <td>126.0</td>\n",
       "      <td>8.3252</td>\n",
       "      <td>NEAR BAY</td>\n",
       "    </tr>\n",
       "    <tr>\n",
       "      <th>1</th>\n",
       "      <td>-122.22</td>\n",
       "      <td>37.86</td>\n",
       "      <td>21.0</td>\n",
       "      <td>7099.0</td>\n",
       "      <td>1106.0</td>\n",
       "      <td>2401.0</td>\n",
       "      <td>1138.0</td>\n",
       "      <td>8.3014</td>\n",
       "      <td>NEAR BAY</td>\n",
       "    </tr>\n",
       "    <tr>\n",
       "      <th>2</th>\n",
       "      <td>-122.24</td>\n",
       "      <td>37.85</td>\n",
       "      <td>52.0</td>\n",
       "      <td>1467.0</td>\n",
       "      <td>190.0</td>\n",
       "      <td>496.0</td>\n",
       "      <td>177.0</td>\n",
       "      <td>7.2574</td>\n",
       "      <td>NEAR BAY</td>\n",
       "    </tr>\n",
       "    <tr>\n",
       "      <th>3</th>\n",
       "      <td>-122.25</td>\n",
       "      <td>37.85</td>\n",
       "      <td>52.0</td>\n",
       "      <td>1274.0</td>\n",
       "      <td>235.0</td>\n",
       "      <td>558.0</td>\n",
       "      <td>219.0</td>\n",
       "      <td>5.6431</td>\n",
       "      <td>NEAR BAY</td>\n",
       "    </tr>\n",
       "    <tr>\n",
       "      <th>4</th>\n",
       "      <td>-122.25</td>\n",
       "      <td>37.85</td>\n",
       "      <td>52.0</td>\n",
       "      <td>1627.0</td>\n",
       "      <td>280.0</td>\n",
       "      <td>565.0</td>\n",
       "      <td>259.0</td>\n",
       "      <td>3.8462</td>\n",
       "      <td>NEAR BAY</td>\n",
       "    </tr>\n",
       "    <tr>\n",
       "      <th>...</th>\n",
       "      <td>...</td>\n",
       "      <td>...</td>\n",
       "      <td>...</td>\n",
       "      <td>...</td>\n",
       "      <td>...</td>\n",
       "      <td>...</td>\n",
       "      <td>...</td>\n",
       "      <td>...</td>\n",
       "      <td>...</td>\n",
       "    </tr>\n",
       "    <tr>\n",
       "      <th>20635</th>\n",
       "      <td>-121.09</td>\n",
       "      <td>39.48</td>\n",
       "      <td>25.0</td>\n",
       "      <td>1665.0</td>\n",
       "      <td>374.0</td>\n",
       "      <td>845.0</td>\n",
       "      <td>330.0</td>\n",
       "      <td>1.5603</td>\n",
       "      <td>INLAND</td>\n",
       "    </tr>\n",
       "    <tr>\n",
       "      <th>20636</th>\n",
       "      <td>-121.21</td>\n",
       "      <td>39.49</td>\n",
       "      <td>18.0</td>\n",
       "      <td>697.0</td>\n",
       "      <td>150.0</td>\n",
       "      <td>356.0</td>\n",
       "      <td>114.0</td>\n",
       "      <td>2.5568</td>\n",
       "      <td>INLAND</td>\n",
       "    </tr>\n",
       "    <tr>\n",
       "      <th>20637</th>\n",
       "      <td>-121.22</td>\n",
       "      <td>39.43</td>\n",
       "      <td>17.0</td>\n",
       "      <td>2254.0</td>\n",
       "      <td>485.0</td>\n",
       "      <td>1007.0</td>\n",
       "      <td>433.0</td>\n",
       "      <td>1.7000</td>\n",
       "      <td>INLAND</td>\n",
       "    </tr>\n",
       "    <tr>\n",
       "      <th>20638</th>\n",
       "      <td>-121.32</td>\n",
       "      <td>39.43</td>\n",
       "      <td>18.0</td>\n",
       "      <td>1860.0</td>\n",
       "      <td>409.0</td>\n",
       "      <td>741.0</td>\n",
       "      <td>349.0</td>\n",
       "      <td>1.8672</td>\n",
       "      <td>INLAND</td>\n",
       "    </tr>\n",
       "    <tr>\n",
       "      <th>20639</th>\n",
       "      <td>-121.24</td>\n",
       "      <td>39.37</td>\n",
       "      <td>16.0</td>\n",
       "      <td>2785.0</td>\n",
       "      <td>616.0</td>\n",
       "      <td>1387.0</td>\n",
       "      <td>530.0</td>\n",
       "      <td>2.3886</td>\n",
       "      <td>INLAND</td>\n",
       "    </tr>\n",
       "  </tbody>\n",
       "</table>\n",
       "<p>20640 rows × 9 columns</p>\n",
       "</div>"
      ],
      "text/plain": [
       "       longitude  latitude  housing_median_age  total_rooms  total_bedrooms  \\\n",
       "0        -122.23     37.88                41.0        880.0           129.0   \n",
       "1        -122.22     37.86                21.0       7099.0          1106.0   \n",
       "2        -122.24     37.85                52.0       1467.0           190.0   \n",
       "3        -122.25     37.85                52.0       1274.0           235.0   \n",
       "4        -122.25     37.85                52.0       1627.0           280.0   \n",
       "...          ...       ...                 ...          ...             ...   \n",
       "20635    -121.09     39.48                25.0       1665.0           374.0   \n",
       "20636    -121.21     39.49                18.0        697.0           150.0   \n",
       "20637    -121.22     39.43                17.0       2254.0           485.0   \n",
       "20638    -121.32     39.43                18.0       1860.0           409.0   \n",
       "20639    -121.24     39.37                16.0       2785.0           616.0   \n",
       "\n",
       "       population  households  median_income ocean_proximity  \n",
       "0           322.0       126.0         8.3252        NEAR BAY  \n",
       "1          2401.0      1138.0         8.3014        NEAR BAY  \n",
       "2           496.0       177.0         7.2574        NEAR BAY  \n",
       "3           558.0       219.0         5.6431        NEAR BAY  \n",
       "4           565.0       259.0         3.8462        NEAR BAY  \n",
       "...           ...         ...            ...             ...  \n",
       "20635       845.0       330.0         1.5603          INLAND  \n",
       "20636       356.0       114.0         2.5568          INLAND  \n",
       "20637      1007.0       433.0         1.7000          INLAND  \n",
       "20638       741.0       349.0         1.8672          INLAND  \n",
       "20639      1387.0       530.0         2.3886          INLAND  \n",
       "\n",
       "[20640 rows x 9 columns]"
      ]
     },
     "execution_count": 173,
     "metadata": {},
     "output_type": "execute_result"
    }
   ],
   "source": [
    "import numpy as np \n",
    "import pandas as pd\n",
    "\n",
    "df = pd.read_csv('project_005/housing.csv')\n",
    "X,y  = df.loc[:,df.columns != 'median_house_value'] , df.loc[:,'median_house_value']\n",
    "X"
   ]
  },
  {
   "cell_type": "markdown",
   "id": "8fdc5b4e",
   "metadata": {},
   "source": [
    "# Exploring the Data "
   ]
  },
  {
   "cell_type": "markdown",
   "id": "e788515e",
   "metadata": {},
   "source": [
    "## Looking for columns with null data \n",
    "_total_bedrooms_ contains missing values, that could be replaced with the mean "
   ]
  },
  {
   "cell_type": "code",
   "execution_count": 174,
   "id": "b7e97f25",
   "metadata": {},
   "outputs": [
    {
     "name": "stdout",
     "output_type": "stream",
     "text": [
      "<class 'pandas.core.frame.DataFrame'>\n",
      "RangeIndex: 20640 entries, 0 to 20639\n",
      "Data columns (total 9 columns):\n",
      " #   Column              Non-Null Count  Dtype  \n",
      "---  ------              --------------  -----  \n",
      " 0   longitude           20640 non-null  float64\n",
      " 1   latitude            20640 non-null  float64\n",
      " 2   housing_median_age  20640 non-null  float64\n",
      " 3   total_rooms         20640 non-null  float64\n",
      " 4   total_bedrooms      20433 non-null  float64\n",
      " 5   population          20640 non-null  float64\n",
      " 6   households          20640 non-null  float64\n",
      " 7   median_income       20640 non-null  float64\n",
      " 8   ocean_proximity     20640 non-null  object \n",
      "dtypes: float64(8), object(1)\n",
      "memory usage: 1.4+ MB\n"
     ]
    }
   ],
   "source": [
    "X.info()"
   ]
  },
  {
   "cell_type": "code",
   "execution_count": 182,
   "id": "0397ced5",
   "metadata": {},
   "outputs": [
    {
     "data": {
      "text/plain": [
       "0         129.0\n",
       "1        1106.0\n",
       "2         190.0\n",
       "3         235.0\n",
       "4         280.0\n",
       "          ...  \n",
       "20635     374.0\n",
       "20636     150.0\n",
       "20637     485.0\n",
       "20638     409.0\n",
       "20639     616.0\n",
       "Name: total_bedrooms, Length: 20640, dtype: float64"
      ]
     },
     "execution_count": 182,
     "metadata": {},
     "output_type": "execute_result"
    }
   ],
   "source": [
    "X.isna().sum()\n",
    "X['total_bedrooms']"
   ]
  },
  {
   "cell_type": "code",
   "execution_count": 162,
   "id": "2db212f9",
   "metadata": {},
   "outputs": [
    {
     "data": {
      "text/html": [
       "<div>\n",
       "<style scoped>\n",
       "    .dataframe tbody tr th:only-of-type {\n",
       "        vertical-align: middle;\n",
       "    }\n",
       "\n",
       "    .dataframe tbody tr th {\n",
       "        vertical-align: top;\n",
       "    }\n",
       "\n",
       "    .dataframe thead th {\n",
       "        text-align: right;\n",
       "    }\n",
       "</style>\n",
       "<table border=\"1\" class=\"dataframe\">\n",
       "  <thead>\n",
       "    <tr style=\"text-align: right;\">\n",
       "      <th></th>\n",
       "      <th>longitude</th>\n",
       "      <th>latitude</th>\n",
       "      <th>housing_median_age</th>\n",
       "      <th>total_rooms</th>\n",
       "      <th>total_bedrooms</th>\n",
       "      <th>population</th>\n",
       "      <th>households</th>\n",
       "      <th>median_income</th>\n",
       "    </tr>\n",
       "  </thead>\n",
       "  <tbody>\n",
       "    <tr>\n",
       "      <th>count</th>\n",
       "      <td>20640.000000</td>\n",
       "      <td>20640.000000</td>\n",
       "      <td>20640.000000</td>\n",
       "      <td>20640.000000</td>\n",
       "      <td>20433.000000</td>\n",
       "      <td>20640.000000</td>\n",
       "      <td>20640.000000</td>\n",
       "      <td>20640.000000</td>\n",
       "    </tr>\n",
       "    <tr>\n",
       "      <th>mean</th>\n",
       "      <td>-119.569704</td>\n",
       "      <td>35.631861</td>\n",
       "      <td>28.639486</td>\n",
       "      <td>2635.763081</td>\n",
       "      <td>537.870553</td>\n",
       "      <td>1425.476744</td>\n",
       "      <td>499.539680</td>\n",
       "      <td>3.870671</td>\n",
       "    </tr>\n",
       "    <tr>\n",
       "      <th>std</th>\n",
       "      <td>2.003532</td>\n",
       "      <td>2.135952</td>\n",
       "      <td>12.585558</td>\n",
       "      <td>2181.615252</td>\n",
       "      <td>421.385070</td>\n",
       "      <td>1132.462122</td>\n",
       "      <td>382.329753</td>\n",
       "      <td>1.899822</td>\n",
       "    </tr>\n",
       "    <tr>\n",
       "      <th>min</th>\n",
       "      <td>-124.350000</td>\n",
       "      <td>32.540000</td>\n",
       "      <td>1.000000</td>\n",
       "      <td>2.000000</td>\n",
       "      <td>1.000000</td>\n",
       "      <td>3.000000</td>\n",
       "      <td>1.000000</td>\n",
       "      <td>0.499900</td>\n",
       "    </tr>\n",
       "    <tr>\n",
       "      <th>25%</th>\n",
       "      <td>-121.800000</td>\n",
       "      <td>33.930000</td>\n",
       "      <td>18.000000</td>\n",
       "      <td>1447.750000</td>\n",
       "      <td>296.000000</td>\n",
       "      <td>787.000000</td>\n",
       "      <td>280.000000</td>\n",
       "      <td>2.563400</td>\n",
       "    </tr>\n",
       "    <tr>\n",
       "      <th>50%</th>\n",
       "      <td>-118.490000</td>\n",
       "      <td>34.260000</td>\n",
       "      <td>29.000000</td>\n",
       "      <td>2127.000000</td>\n",
       "      <td>435.000000</td>\n",
       "      <td>1166.000000</td>\n",
       "      <td>409.000000</td>\n",
       "      <td>3.534800</td>\n",
       "    </tr>\n",
       "    <tr>\n",
       "      <th>75%</th>\n",
       "      <td>-118.010000</td>\n",
       "      <td>37.710000</td>\n",
       "      <td>37.000000</td>\n",
       "      <td>3148.000000</td>\n",
       "      <td>647.000000</td>\n",
       "      <td>1725.000000</td>\n",
       "      <td>605.000000</td>\n",
       "      <td>4.743250</td>\n",
       "    </tr>\n",
       "    <tr>\n",
       "      <th>max</th>\n",
       "      <td>-114.310000</td>\n",
       "      <td>41.950000</td>\n",
       "      <td>52.000000</td>\n",
       "      <td>39320.000000</td>\n",
       "      <td>6445.000000</td>\n",
       "      <td>35682.000000</td>\n",
       "      <td>6082.000000</td>\n",
       "      <td>15.000100</td>\n",
       "    </tr>\n",
       "  </tbody>\n",
       "</table>\n",
       "</div>"
      ],
      "text/plain": [
       "          longitude      latitude  housing_median_age   total_rooms  \\\n",
       "count  20640.000000  20640.000000        20640.000000  20640.000000   \n",
       "mean    -119.569704     35.631861           28.639486   2635.763081   \n",
       "std        2.003532      2.135952           12.585558   2181.615252   \n",
       "min     -124.350000     32.540000            1.000000      2.000000   \n",
       "25%     -121.800000     33.930000           18.000000   1447.750000   \n",
       "50%     -118.490000     34.260000           29.000000   2127.000000   \n",
       "75%     -118.010000     37.710000           37.000000   3148.000000   \n",
       "max     -114.310000     41.950000           52.000000  39320.000000   \n",
       "\n",
       "       total_bedrooms    population    households  median_income  \n",
       "count    20433.000000  20640.000000  20640.000000   20640.000000  \n",
       "mean       537.870553   1425.476744    499.539680       3.870671  \n",
       "std        421.385070   1132.462122    382.329753       1.899822  \n",
       "min          1.000000      3.000000      1.000000       0.499900  \n",
       "25%        296.000000    787.000000    280.000000       2.563400  \n",
       "50%        435.000000   1166.000000    409.000000       3.534800  \n",
       "75%        647.000000   1725.000000    605.000000       4.743250  \n",
       "max       6445.000000  35682.000000   6082.000000      15.000100  "
      ]
     },
     "execution_count": 162,
     "metadata": {},
     "output_type": "execute_result"
    }
   ],
   "source": [
    "X.describe()"
   ]
  },
  {
   "cell_type": "markdown",
   "id": "a4e778f4",
   "metadata": {},
   "source": [
    "## Exploring Categorical Data in the Dataset "
   ]
  },
  {
   "cell_type": "code",
   "execution_count": 163,
   "id": "0dab063c",
   "metadata": {},
   "outputs": [
    {
     "data": {
      "text/plain": [
       "<1H OCEAN     9136\n",
       "INLAND        6551\n",
       "NEAR OCEAN    2658\n",
       "NEAR BAY      2290\n",
       "ISLAND           5\n",
       "Name: ocean_proximity, dtype: int64"
      ]
     },
     "execution_count": 163,
     "metadata": {},
     "output_type": "execute_result"
    }
   ],
   "source": [
    "X['ocean_proximity'].value_counts()"
   ]
  },
  {
   "cell_type": "markdown",
   "id": "d422257c",
   "metadata": {},
   "source": [
    "## Looking for columns with fewer values \n",
    "_ocean_proximity_ represents categorical values that should be HotEncoded  "
   ]
  },
  {
   "cell_type": "code",
   "execution_count": 164,
   "id": "f83f6b58",
   "metadata": {},
   "outputs": [
    {
     "data": {
      "text/plain": [
       "longitude               844\n",
       "latitude                862\n",
       "housing_median_age       52\n",
       "total_rooms            5926\n",
       "total_bedrooms         1923\n",
       "population             3888\n",
       "households             1815\n",
       "median_income         12928\n",
       "ocean_proximity           5\n",
       "dtype: int64"
      ]
     },
     "execution_count": 164,
     "metadata": {},
     "output_type": "execute_result"
    }
   ],
   "source": [
    "X.nunique()"
   ]
  },
  {
   "cell_type": "markdown",
   "id": "4f8b7e11",
   "metadata": {},
   "source": [
    "## Looking for duplicates "
   ]
  },
  {
   "cell_type": "code",
   "execution_count": 165,
   "id": "087c45ec",
   "metadata": {},
   "outputs": [
    {
     "name": "stdout",
     "output_type": "stream",
     "text": [
      "False\n",
      "Empty DataFrame\n",
      "Columns: [longitude, latitude, housing_median_age, total_rooms, total_bedrooms, population, households, median_income, ocean_proximity]\n",
      "Index: []\n"
     ]
    }
   ],
   "source": [
    "dups = X.duplicated()\n",
    "# report if there are any duplicates\n",
    "print(dups.any())\n",
    "# list all duplicate rows\n",
    "print(X[dups])"
   ]
  },
  {
   "cell_type": "markdown",
   "id": "f7d612c3",
   "metadata": {},
   "source": [
    "## Exploring Correlations "
   ]
  },
  {
   "cell_type": "code",
   "execution_count": 166,
   "id": "4732009e",
   "metadata": {},
   "outputs": [
    {
     "data": {
      "text/plain": [
       "median_house_value    1.000000\n",
       "median_income         0.688075\n",
       "total_rooms           0.134153\n",
       "housing_median_age    0.105623\n",
       "households            0.065843\n",
       "total_bedrooms        0.049686\n",
       "population           -0.024650\n",
       "longitude            -0.045967\n",
       "latitude             -0.144160\n",
       "Name: median_house_value, dtype: float64"
      ]
     },
     "execution_count": 166,
     "metadata": {},
     "output_type": "execute_result"
    }
   ],
   "source": [
    "corr_matrix = df.corr()\n",
    "corr_matrix['median_house_value'].sort_values(ascending= False)"
   ]
  },
  {
   "cell_type": "code",
   "execution_count": 167,
   "id": "9a5d4596",
   "metadata": {},
   "outputs": [
    {
     "data": {
      "image/png": "[encoded data removed]",
      "text/plain": [
       "<Figure size 1440x1080 with 9 Axes>"
      ]
     },
     "metadata": {
      "needs_background": "light"
     },
     "output_type": "display_data"
    }
   ],
   "source": [
    "%matplotlib inline \n",
    "import matplotlib.pyplot as plt\n",
    "X.hist(bins=50, figsize=(20,15))\n",
    "plt.show()"
   ]
  },
  {
   "cell_type": "markdown",
   "id": "1436ce13",
   "metadata": {},
   "source": [
    "# Applying Transformations \n",
    "List of transformations that could be considered :\n",
    "- Completion of missing values in total_bedrooms \n",
    "- HotEncode ocean_proximity \n",
    "- Detect Outliers \n",
    "- Apply a Feature selection method "
   ]
  },
  {
   "cell_type": "code",
   "execution_count": 221,
   "id": "8185a764",
   "metadata": {},
   "outputs": [
    {
     "data": {
      "text/plain": [
       "{'memory': None,\n",
       " 'steps': [('data_prep',\n",
       "   ColumnTransformer(transformers=[('num_pip',\n",
       "                                    Pipeline(steps=[('imputer',\n",
       "                                                     SimpleImputer(strategy='median')),\n",
       "                                                    ('std_scaler',\n",
       "                                                     StandardScaler()),\n",
       "                                                    ('minmax_scaler',\n",
       "                                                     MinMaxScaler())]),\n",
       "                                    ['longitude', 'latitude', 'housing_median_age',\n",
       "                                     'total_rooms', 'total_bedrooms', 'population',\n",
       "                                     'households', 'median_income']),\n",
       "                                   ('cat_pip',\n",
       "                                    Pipeline(steps=[('hot_encoder',\n",
       "                                                     OneHotEncoder())]),\n",
       "                                    ['ocean_proximity'])])),\n",
       "  ('linear', LinearRegression())],\n",
       " 'verbose': False,\n",
       " 'data_prep': ColumnTransformer(transformers=[('num_pip',\n",
       "                                  Pipeline(steps=[('imputer',\n",
       "                                                   SimpleImputer(strategy='median')),\n",
       "                                                  ('std_scaler',\n",
       "                                                   StandardScaler()),\n",
       "                                                  ('minmax_scaler',\n",
       "                                                   MinMaxScaler())]),\n",
       "                                  ['longitude', 'latitude', 'housing_median_age',\n",
       "                                   'total_rooms', 'total_bedrooms', 'population',\n",
       "                                   'households', 'median_income']),\n",
       "                                 ('cat_pip',\n",
       "                                  Pipeline(steps=[('hot_encoder',\n",
       "                                                   OneHotEncoder())]),\n",
       "                                  ['ocean_proximity'])]),\n",
       " 'linear': LinearRegression(),\n",
       " 'data_prep__n_jobs': None,\n",
       " 'data_prep__remainder': 'drop',\n",
       " 'data_prep__sparse_threshold': 0.3,\n",
       " 'data_prep__transformer_weights': None,\n",
       " 'data_prep__transformers': [('num_pip',\n",
       "   Pipeline(steps=[('imputer', SimpleImputer(strategy='median')),\n",
       "                   ('std_scaler', StandardScaler()),\n",
       "                   ('minmax_scaler', MinMaxScaler())]),\n",
       "   ['longitude',\n",
       "    'latitude',\n",
       "    'housing_median_age',\n",
       "    'total_rooms',\n",
       "    'total_bedrooms',\n",
       "    'population',\n",
       "    'households',\n",
       "    'median_income']),\n",
       "  ('cat_pip',\n",
       "   Pipeline(steps=[('hot_encoder', OneHotEncoder())]),\n",
       "   ['ocean_proximity'])],\n",
       " 'data_prep__verbose': False,\n",
       " 'data_prep__num_pip': Pipeline(steps=[('imputer', SimpleImputer(strategy='median')),\n",
       "                 ('std_scaler', StandardScaler()),\n",
       "                 ('minmax_scaler', MinMaxScaler())]),\n",
       " 'data_prep__cat_pip': Pipeline(steps=[('hot_encoder', OneHotEncoder())]),\n",
       " 'data_prep__num_pip__memory': None,\n",
       " 'data_prep__num_pip__steps': [('imputer', SimpleImputer(strategy='median')),\n",
       "  ('std_scaler', StandardScaler()),\n",
       "  ('minmax_scaler', MinMaxScaler())],\n",
       " 'data_prep__num_pip__verbose': False,\n",
       " 'data_prep__num_pip__imputer': SimpleImputer(strategy='median'),\n",
       " 'data_prep__num_pip__std_scaler': StandardScaler(),\n",
       " 'data_prep__num_pip__minmax_scaler': MinMaxScaler(),\n",
       " 'data_prep__num_pip__imputer__add_indicator': False,\n",
       " 'data_prep__num_pip__imputer__copy': True,\n",
       " 'data_prep__num_pip__imputer__fill_value': None,\n",
       " 'data_prep__num_pip__imputer__missing_values': nan,\n",
       " 'data_prep__num_pip__imputer__strategy': 'median',\n",
       " 'data_prep__num_pip__imputer__verbose': 0,\n",
       " 'data_prep__num_pip__std_scaler__copy': True,\n",
       " 'data_prep__num_pip__std_scaler__with_mean': True,\n",
       " 'data_prep__num_pip__std_scaler__with_std': True,\n",
       " 'data_prep__num_pip__minmax_scaler__clip': False,\n",
       " 'data_prep__num_pip__minmax_scaler__copy': True,\n",
       " 'data_prep__num_pip__minmax_scaler__feature_range': (0, 1),\n",
       " 'data_prep__cat_pip__memory': None,\n",
       " 'data_prep__cat_pip__steps': [('hot_encoder', OneHotEncoder())],\n",
       " 'data_prep__cat_pip__verbose': False,\n",
       " 'data_prep__cat_pip__hot_encoder': OneHotEncoder(),\n",
       " 'data_prep__cat_pip__hot_encoder__categories': 'auto',\n",
       " 'data_prep__cat_pip__hot_encoder__drop': None,\n",
       " 'data_prep__cat_pip__hot_encoder__dtype': numpy.float64,\n",
       " 'data_prep__cat_pip__hot_encoder__handle_unknown': 'error',\n",
       " 'data_prep__cat_pip__hot_encoder__sparse': True,\n",
       " 'linear__copy_X': True,\n",
       " 'linear__fit_intercept': True,\n",
       " 'linear__n_jobs': None,\n",
       " 'linear__normalize': False,\n",
       " 'linear__positive': False}"
      ]
     },
     "execution_count": 221,
     "metadata": {},
     "output_type": "execute_result"
    }
   ],
   "source": [
    "from sklearn.compose import ColumnTransformer \n",
    "from sklearn.impute import SimpleImputer\n",
    "from sklearn.pipeline import Pipeline \n",
    "from sklearn.preprocessing import StandardScaler, OneHotEncoder, MinMaxScaler\n",
    "from sklearn.linear_model import LinearRegression\n",
    "from sklearn.model_selection import GridSearchCV\n",
    "\n",
    "num_cols = list(X.columns)\n",
    "num_cols.remove('ocean_proximity')\n",
    "\n",
    "cat_attribs = []\n",
    "nan_attribs = []\n",
    "\n",
    "\n",
    "\n",
    "\n",
    "numerical_pipeline = Pipeline([\n",
    "        ('imputer', SimpleImputer(strategy=\"median\")),\n",
    "        ('std_scaler', StandardScaler()),\n",
    "        ('minmax_scaler', MinMaxScaler())\n",
    "    ])\n",
    "\n",
    "categorical_pipeline = Pipeline([\n",
    "    (\"hot_encoder\", OneHotEncoder(), ) \n",
    "])\n",
    "\n",
    "\n",
    "final_pipeline = ColumnTransformer([\n",
    "    ('num_pip', numerical_pipeline, num_cols),\n",
    "    ('cat_pip', categorical_pipeline, ['ocean_proximity'])\n",
    "    ])\n",
    "\n",
    "\n",
    "\n",
    "full_pipeline_with_predictor = Pipeline([\n",
    "        (\"data_prep\",final_pipeline ),\n",
    "        (\"linear\", LinearRegression())\n",
    "    ])\n",
    "\n",
    "full_pipeline_with_predictor.fit(X, y)\n",
    "\n",
    "full_pipeline_with_predictor.get_params()\n"
   ]
  },
  {
   "cell_type": "code",
   "execution_count": 227,
   "id": "f3293c8e",
   "metadata": {},
   "outputs": [
    {
     "name": "stdout",
     "output_type": "stream",
     "text": [
      "Grid best parameter (max. accuracy):  {'data_prep__num_pip__std_scaler': 'passthrough'}\n",
      "Grid best score (accuracy):  0.6455152394733912\n"
     ]
    },
    {
     "data": {
      "text/plain": [
       "Pipeline(steps=[('data_prep',\n",
       "                 ColumnTransformer(transformers=[('num_pip',\n",
       "                                                  Pipeline(steps=[('imputer',\n",
       "                                                                   SimpleImputer(strategy='median')),\n",
       "                                                                  ('std_scaler',\n",
       "                                                                   'passthrough'),\n",
       "                                                                  ('minmax_scaler',\n",
       "                                                                   MinMaxScaler())]),\n",
       "                                                  ['longitude', 'latitude',\n",
       "                                                   'housing_median_age',\n",
       "                                                   'total_rooms',\n",
       "                                                   'total_bedrooms',\n",
       "                                                   'population', 'households',\n",
       "                                                   'median_income']),\n",
       "                                                 ('cat_pip',\n",
       "                                                  Pipeline(steps=[('hot_encoder',\n",
       "                                                                   OneHotEncoder())]),\n",
       "                                                  ['ocean_proximity'])])),\n",
       "                ('linear', LinearRegression())])"
      ]
     },
     "execution_count": 227,
     "metadata": {},
     "output_type": "execute_result"
    }
   ],
   "source": [
    "from sklearn.model_selection import train_test_split\n",
    "grid_params = [{'data_prep__num_pip__std_scaler': ['passthrough']}, \n",
    "               {'data_prep__num_pip__minmax_scaler': ['passthrough']}\n",
    "                ]\n",
    "\n",
    "gs = GridSearchCV(full_pipeline_with_predictor, grid_params, scoring='r2')\n",
    "\n",
    "\n",
    "X_train, X_test, y_train, y_test = train_test_split(X, y, random_state=0)\n",
    "# run gridsearch\n",
    "gs.fit(X_train, y_train)\n",
    "\n",
    "print('Grid best parameter (max. accuracy): ', gs.best_params_)\n",
    "print('Grid best score (accuracy): ', gs.best_score_)\n",
    "\n",
    "gs.best_estimator_.score(X_tes)"
   ]
  },
  {
   "cell_type": "code",
   "execution_count": null,
   "id": "e0ebffdb",
   "metadata": {},
   "outputs": [],
   "source": []
  }
 ],
 "metadata": {
  "kernelspec": {
   "display_name": "Python 3 (ipykernel)",
   "language": "python",
   "name": "python3"
  },
  "language_info": {
   "codemirror_mode": {
    "name": "ipython",
    "version": 3
   },
   "file_extension": ".py",
   "mimetype": "text/x-python",
   "name": "python",
   "nbconvert_exporter": "python",
   "pygments_lexer": "ipython3",
   "version": "3.9.7"
  }
 },
 "nbformat": 4,
 "nbformat_minor": 5
}
