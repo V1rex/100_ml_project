{
 "cells": [
  {
   "cell_type": "markdown",
   "id": "1fe79827",
   "metadata": {},
   "source": [
    "https://raw.githubusercontent.com/jbrownlee/Datasets/master/oil-spill.csv"
   ]
  },
  {
   "cell_type": "code",
   "execution_count": null,
   "id": "fa3bf853",
   "metadata": {},
   "outputs": [],
   "source": []
  }
 ],
 "metadata": {
  "kernelspec": {
   "display_name": "Python 3 (ipykernel)",
   "language": "python",
   "name": "python3"
  },
  "language_info": {
   "codemirror_mode": {
    "name": "ipython",
    "version": 3
   },
   "file_extension": ".py",
   "mimetype": "text/x-python",
   "name": "python",
   "nbconvert_exporter": "python",
   "pygments_lexer": "ipython3",
   "version": "3.9.7"
  }
 },
 "nbformat": 4,
 "nbformat_minor": 5
}
